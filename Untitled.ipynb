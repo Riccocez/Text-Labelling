{
 "cells": [
  {
   "cell_type": "code",
   "execution_count": 1,
   "metadata": {
    "collapsed": false
   },
   "outputs": [],
   "source": [
    "import nltk\n",
    "import os\n",
    "import time\n",
    "import string\n",
    "import pickle\n",
    "from Files import Files\n",
    "import re\n",
    "from Preprocessing import Preprocessing as preproc\n",
    "from nltk.corpus import stopwords as sw"
   ]
  },
  {
   "cell_type": "code",
   "execution_count": 2,
   "metadata": {
    "collapsed": false
   },
   "outputs": [],
   "source": [
    "files = Files()\n",
    "preprocessing = preproc()\n",
    "files.get_all_files(path=\"SentenceCorpus/labeled_articles/\",\n",
    "                    extension=\"1.txt\")\n",
    "files.split_abstract_intro_files()"
   ]
  },
  {
   "cell_type": "code",
   "execution_count": 3,
   "metadata": {
    "collapsed": false
   },
   "outputs": [],
   "source": [
    "files.super_tag_dict = preprocessing.sum_all_tags(files.get_tag_sets())\n",
    "preprocessing.reset_all_tags()\n"
   ]
  },
  {
   "cell_type": "code",
   "execution_count": 4,
   "metadata": {
    "collapsed": false
   },
   "outputs": [],
   "source": [
    "feats_abs = preprocessing.build_feature_set(files.label_abstract,'abstract')\n",
    "feats_intro = preprocessing.build_feature_set(files.label_intro,'introduction')\n",
    "\n"
   ]
  },
  {
   "cell_type": "code",
   "execution_count": 5,
   "metadata": {
    "collapsed": false
   },
   "outputs": [],
   "source": [
    "train_set,dev_set,test_set = preprocessing.split_dataset(\n",
    "                                        feats_abs,feats_intro)\n",
    "train_data = [sent[0] for sent in train_set]\n",
    "test_set = [sent[0] for sent in test_set]\n",
    "dev_set = [sent[0] for sent in dev_set]"
   ]
  },
  {
   "cell_type": "code",
   "execution_count": 6,
   "metadata": {
    "collapsed": false
   },
   "outputs": [],
   "source": [
    "classifier = nltk.NaiveBayesClassifier.train(train_data)\n"
   ]
  },
  {
   "cell_type": "code",
   "execution_count": null,
   "metadata": {
    "collapsed": false
   },
   "outputs": [],
   "source": [
    "preprocessing.reset_all_tags()\n",
    "preprocessing.tag_feats"
   ]
  },
  {
   "cell_type": "code",
   "execution_count": null,
   "metadata": {
    "collapsed": false
   },
   "outputs": [],
   "source": [
    "x_train = []\n",
    "y_train = []\n",
    "for i in train_data:\n",
    "    #x_tmp = [float(i) for i in list(i[0].values())]\n",
    "    x_train.append(i[0])\n",
    "    y_train.append(i[1])\n",
    "\n",
    "encoder = LabelEncoder()\n",
    "encoder.fit(y_train)\n",
    "encoded_y = encoder.transform(y_train)"
   ]
  },
  {
   "cell_type": "code",
   "execution_count": null,
   "metadata": {
    "collapsed": false
   },
   "outputs": [],
   "source": [
    "x_train = np.asarray(x_train)"
   ]
  },
  {
   "cell_type": "code",
   "execution_count": null,
   "metadata": {
    "collapsed": false
   },
   "outputs": [],
   "source": [
    "dummy_y = np_utils.to_categorical(encoded_y)"
   ]
  },
  {
   "cell_type": "code",
   "execution_count": null,
   "metadata": {
    "collapsed": false
   },
   "outputs": [],
   "source": [
    "def baseline_model():\n",
    "    # create model\n",
    "    model = Sequential()\n",
    "    model.add(Dense(4, input_dim=2, init='normal', activation='relu'))\n",
    "    model.add(Dense(3, init='normal', activation='sigmoid'))\n",
    "    # Compile model\n",
    "    model.compile(loss='categorical_crossentropy', optimizer='adam', metrics=['accuracy'])\n",
    "    return model"
   ]
  },
  {
   "cell_type": "code",
   "execution_count": null,
   "metadata": {
    "collapsed": true
   },
   "outputs": [],
   "source": [
    "estimator = KerasClassifier(build_fn=baseline_model,nb_epoch=200,batch_size=5,verbose=0)"
   ]
  },
  {
   "cell_type": "code",
   "execution_count": null,
   "metadata": {
    "collapsed": false
   },
   "outputs": [],
   "source": [
    "kfold = KFold(n_splits=10, shuffle=True, random_state=seed)"
   ]
  },
  {
   "cell_type": "code",
   "execution_count": null,
   "metadata": {
    "collapsed": false
   },
   "outputs": [],
   "source": [
    "\n",
    "results = cross_val_score(estimator, x_train, encoded_y, cv=kfold)\n",
    "#print(\"Baseline: %.2f%% (%.2f%%)\" % (results.mean()*100, results.std()*100))\n"
   ]
  },
  {
   "cell_type": "code",
   "execution_count": null,
   "metadata": {
    "collapsed": false
   },
   "outputs": [],
   "source": [
    "correct = 0\n",
    "wrong = 0\n",
    "for element in test_set: \n",
    "    predicted_label = classifier.classify(element[0])\n",
    "    print(predicted_label,element[1])\n",
    "    \n",
    "    if predicted_label == element[1]:\n",
    "        correct += 1\n",
    "    else:\n",
    "        wrong +=1"
   ]
  },
  {
   "cell_type": "code",
   "execution_count": null,
   "metadata": {
    "collapsed": false
   },
   "outputs": [],
   "source": [
    "correct"
   ]
  },
  {
   "cell_type": "code",
   "execution_count": null,
   "metadata": {
    "collapsed": false
   },
   "outputs": [],
   "source": [
    "wrong\n",
    "            "
   ]
  },
  {
   "cell_type": "code",
   "execution_count": 7,
   "metadata": {
    "collapsed": false
   },
   "outputs": [
    {
     "name": "stdout",
     "output_type": "stream",
     "text": [
      "0.8166666666666667\n"
     ]
    }
   ],
   "source": [
    "#dev = [sentence[0] for sentence in dev_set]\n",
    "\n",
    "    \n",
    "print(nltk.classify.accuracy(classifier,dev_set))"
   ]
  },
  {
   "cell_type": "code",
   "execution_count": null,
   "metadata": {
    "collapsed": false
   },
   "outputs": [],
   "source": [
    "classifier.show_most_informative_features()"
   ]
  },
  {
   "cell_type": "code",
   "execution_count": null,
   "metadata": {
    "collapsed": true
   },
   "outputs": [],
   "source": [
    "from nltk.classify import SklearnClassifier\n",
    "from sklearn.naive_bayes import BernoulliNB\n",
    "from sklearn.svm import SVC"
   ]
  },
  {
   "cell_type": "code",
   "execution_count": null,
   "metadata": {
    "collapsed": false
   },
   "outputs": [],
   "source": [
    "classif = SklearnClassifier(BernoulliNB()).train(train_data)"
   ]
  },
  {
   "cell_type": "code",
   "execution_count": null,
   "metadata": {
    "collapsed": true
   },
   "outputs": [],
   "source": [
    "classif_02 = SklearnClassifier(SVC(), sparse=False).train(train_data)"
   ]
  },
  {
   "cell_type": "code",
   "execution_count": null,
   "metadata": {
    "collapsed": false
   },
   "outputs": [],
   "source": [
    "print(nltk.classify.accuracy(classif,dev_set))"
   ]
  },
  {
   "cell_type": "code",
   "execution_count": null,
   "metadata": {
    "collapsed": false
   },
   "outputs": [],
   "source": [
    "print(nltk.classify.accuracy(classif_02,dev_set))"
   ]
  },
  {
   "cell_type": "code",
   "execution_count": null,
   "metadata": {
    "collapsed": false
   },
   "outputs": [],
   "source": [
    "classif.classify_many(test_set[0][0])"
   ]
  },
  {
   "cell_type": "code",
   "execution_count": null,
   "metadata": {
    "collapsed": false
   },
   "outputs": [],
   "source": [
    "from keras.models import Sequential\n",
    "from keras.layers import Dense\n",
    "from keras.wrappers.scikit_learn import KerasClassifier\n",
    "from sklearn.preprocessing import LabelEncoder\n",
    "import numpy as np\n",
    "from keras.utils import np_utils\n",
    "from sklearn.model_selection import KFold\n",
    "from sklearn.model_selection import cross_val_score"
   ]
  },
  {
   "cell_type": "code",
   "execution_count": null,
   "metadata": {
    "collapsed": false
   },
   "outputs": [],
   "source": [
    "# fix random seed for reproducibility\n",
    "seed = 7\n",
    "np.random.seed(seed)"
   ]
  },
  {
   "cell_type": "code",
   "execution_count": 8,
   "metadata": {
    "collapsed": false
   },
   "outputs": [
    {
     "data": {
      "text/plain": [
       "({\"''\": 0,\n",
       "  '(': 0,\n",
       "  ')': 0,\n",
       "  ',': 0,\n",
       "  '.': 0,\n",
       "  ':': 0,\n",
       "  'CC': 3,\n",
       "  'CD': 1,\n",
       "  'DT': 4,\n",
       "  'EX': 1,\n",
       "  'FW': 0,\n",
       "  'IN': 7,\n",
       "  'JJ': 8,\n",
       "  'JJR': 0,\n",
       "  'JJS': 0,\n",
       "  'MD': 0,\n",
       "  'NN': 8,\n",
       "  'NNP': 0,\n",
       "  'NNS': 7,\n",
       "  'PDT': 0,\n",
       "  'POS': 0,\n",
       "  'PRP': 0,\n",
       "  'PRP$': 0,\n",
       "  'RB': 0,\n",
       "  'RBR': 0,\n",
       "  'RBS': 0,\n",
       "  'RP': 0,\n",
       "  'SYM': 0,\n",
       "  'TO': 2,\n",
       "  'VB': 2,\n",
       "  'VBD': 0,\n",
       "  'VBG': 0,\n",
       "  'VBN': 4,\n",
       "  'VBP': 3,\n",
       "  'VBZ': 2,\n",
       "  'WDT': 3,\n",
       "  'WP': 0,\n",
       "  'WP$': 0,\n",
       "  'WRB': 0,\n",
       "  '``': 0,\n",
       "  'abstract': 1,\n",
       "  'introduction': 0,\n",
       "  'paper': 0,\n",
       "  'unknown': 0},\n",
       " 'MISC')"
      ]
     },
     "execution_count": 8,
     "metadata": {},
     "output_type": "execute_result"
    }
   ],
   "source": [
    "test_set[0]"
   ]
  },
  {
   "cell_type": "code",
   "execution_count": null,
   "metadata": {
    "collapsed": true
   },
   "outputs": [],
   "source": []
  }
 ],
 "metadata": {
  "anaconda-cloud": {},
  "kernelspec": {
   "display_name": "Python 3",
   "language": "python",
   "name": "python3"
  },
  "language_info": {
   "codemirror_mode": {
    "name": "ipython",
    "version": 3
   },
   "file_extension": ".py",
   "mimetype": "text/x-python",
   "name": "python",
   "nbconvert_exporter": "python",
   "pygments_lexer": "ipython3",
   "version": "3.5.2"
  }
 },
 "nbformat": 4,
 "nbformat_minor": 1
}
